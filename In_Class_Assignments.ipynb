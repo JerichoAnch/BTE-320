{
  "nbformat": 4,
  "nbformat_minor": 0,
  "metadata": {
    "colab": {
      "provenance": [],
      "authorship_tag": "ABX9TyNU4yLTshK8NvE0bVNpuOck",
      "include_colab_link": true
    },
    "kernelspec": {
      "name": "python3",
      "display_name": "Python 3"
    },
    "language_info": {
      "name": "python"
    }
  },
  "cells": [
    {
      "cell_type": "markdown",
      "metadata": {
        "id": "view-in-github",
        "colab_type": "text"
      },
      "source": [
        "<a href=\"https://colab.research.google.com/github/JerichoAnch/BTE-320/blob/main/In_Class_Assignments.ipynb\" target=\"_parent\"><img src=\"https://colab.research.google.com/assets/colab-badge.svg\" alt=\"Open In Colab\"/></a>"
      ]
    },
    {
      "cell_type": "markdown",
      "source": [
        "**Assignment 1**"
      ],
      "metadata": {
        "id": "b-oy9EQt84-Q"
      }
    },
    {
      "cell_type": "code",
      "execution_count": null,
      "metadata": {
        "colab": {
          "base_uri": "https://localhost:8080/"
        },
        "id": "fof9tn0byiEU",
        "outputId": "ebba40ad-6724-4ece-f1e6-f3d8aacd5c65"
      },
      "outputs": [
        {
          "output_type": "stream",
          "name": "stdout",
          "text": [
            "150.72\n"
          ]
        }
      ],
      "source": [
        "r=3\n",
        "pi=3.14\n",
        "h=5\n",
        "SurfaceArea= 2*pi*r**2+2*pi*r*h\n",
        "print(SurfaceArea)"
      ]
    },
    {
      "cell_type": "markdown",
      "source": [
        "Assignment 2"
      ],
      "metadata": {
        "id": "KyM70bblFucZ"
      }
    },
    {
      "cell_type": "code",
      "source": [
        "Player_1 = input('Player 1 sign throw (rock/paper/scissors):')\n",
        "Player_2 = input('Player 2 sign throw (rock/paper/scissors):')\n",
        "\n",
        "if Player_1 == Player_2:\n",
        "  print('Draw')\n",
        "elif (Player_1 == 'rock' and Player_2 == 'scissors') or (Player_1 == 'scissors' and Player_2 == 'paper') or (Player_1 == 'paper' and Player_2 == 'rock'):\n",
        "  print('Player 1 wins')\n",
        "else:\n",
        "    print('Player 2 wins')"
      ],
      "metadata": {
        "colab": {
          "base_uri": "https://localhost:8080/"
        },
        "collapsed": true,
        "id": "6DUVx6oX-ZkK",
        "outputId": "bd1c4953-a15a-459c-928f-519f42f03fe9"
      },
      "execution_count": 8,
      "outputs": [
        {
          "output_type": "stream",
          "name": "stdout",
          "text": [
            "Player 1 sign throw (rock/paper/scissors):rock\n",
            "Player 2 sign throw (rock/paper/scissors):paper\n",
            "Player 2 wins\n"
          ]
        }
      ]
    },
    {
      "cell_type": "markdown",
      "source": [
        "Assignment 3"
      ],
      "metadata": {
        "id": "nruondH1FwAa"
      }
    },
    {
      "cell_type": "code",
      "source": [
        "N1 = float(input('First Number ='))\n",
        "S = input('Operation(+,-,*,/,**)')\n",
        "N2 = float(input('Second Number ='))\n",
        "if S == '+':\n",
        "  print(f'{N1} + {N2} = {N1+N2}')\n",
        "elif S == '-':\n",
        "  print(f'{N1} - {N2} = {N1-N2}')\n",
        "elif S == '*':\n",
        "  print(f'{N1} * {N2} = {N1*N2}')\n",
        "elif S == '/':\n",
        "  print(f'{N1} / {N2} = {N1/N2}')\n",
        "elif S == '**':\n",
        "  print(f'{N1} ** {N2} = {N1**N2}')"
      ],
      "metadata": {
        "colab": {
          "base_uri": "https://localhost:8080/"
        },
        "collapsed": true,
        "id": "DSKvpIafALfU",
        "outputId": "4b81e1ac-4bb1-4363-f67a-a7ff0a65137e"
      },
      "execution_count": 30,
      "outputs": [
        {
          "output_type": "stream",
          "name": "stdout",
          "text": [
            "First Number =20\n",
            "Operation(+,-,*,/,**)/\n",
            "Second Number =5\n",
            "20.0 / 5.0 = 4.0\n"
          ]
        }
      ]
    },
    {
      "cell_type": "markdown",
      "source": [
        "Assignment 4"
      ],
      "metadata": {
        "id": "Xe9UqnRc89vS"
      }
    },
    {
      "cell_type": "code",
      "source": [
        "import random\n",
        "\n",
        "c=input('Would you like to play a game?')\n",
        "p1= input (\"choose rock, paper, scissors:\")\n",
        "p2= random.choice (\"choose rock, paper, scissors:\")\n",
        "\n",
        "print(f'computer choose {p2}.')\n",
        "\n",
        "if p1 == p2:\n",
        "  print('Draw')\n",
        "elif((p1=='rock') and (p2=='scissors')) or ((p1=='scissors') and (p2=='paper')) or ((p1=='paper') and (p2=='rock')):\n",
        "  print('You win')\n",
        "else:\n",
        "  print('Computer wins')\n",
        "c=input('Would you like to play another a game?')\n"
      ],
      "metadata": {
        "id": "KsxCJhGEzDYE",
        "colab": {
          "base_uri": "https://localhost:8080/"
        },
        "collapsed": true,
        "outputId": "d04fc39b-2f05-441d-ae6b-b08bdc8821ea"
      },
      "execution_count": 21,
      "outputs": [
        {
          "name": "stdout",
          "output_type": "stream",
          "text": [
            "Would you like to play a game?yes\n",
            "choose rock, paper, scissors:rock\n",
            "computer choose s.\n",
            "Computer wins\n",
            "Would you like to play another a game?no\n"
          ]
        }
      ]
    },
    {
      "cell_type": "markdown",
      "source": [
        "Assignment 5\n"
      ],
      "metadata": {
        "id": "TiN5Ot5pFyzV"
      }
    },
    {
      "cell_type": "code",
      "source": [
        "for t in range(1, 9, 1):\n",
        "  charge= 5 + 2.5 *t\n",
        "  if charge < 10:\n",
        "    charge = 10\n",
        "  elif charge > 20:\n",
        "    charge = 20\n",
        "  print(t, charge)\n"
      ],
      "metadata": {
        "colab": {
          "base_uri": "https://localhost:8080/"
        },
        "id": "MGNCa05qDeCf",
        "outputId": "fcee8403-8dd5-4636-cb99-2bbf5f8cc0c7"
      },
      "execution_count": 33,
      "outputs": [
        {
          "output_type": "stream",
          "name": "stdout",
          "text": [
            "1 10\n",
            "2 10.0\n",
            "3 12.5\n",
            "4 15.0\n",
            "5 17.5\n",
            "6 20.0\n",
            "7 20\n",
            "8 20\n"
          ]
        }
      ]
    }
  ]
}