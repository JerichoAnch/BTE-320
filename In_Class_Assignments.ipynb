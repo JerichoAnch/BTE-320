{
  "nbformat": 4,
  "nbformat_minor": 0,
  "metadata": {
    "colab": {
      "provenance": [],
      "authorship_tag": "ABX9TyMJxo3WaR2MZp+fxYnjGmB9",
      "include_colab_link": true
    },
    "kernelspec": {
      "name": "python3",
      "display_name": "Python 3"
    },
    "language_info": {
      "name": "python"
    }
  },
  "cells": [
    {
      "cell_type": "markdown",
      "metadata": {
        "id": "view-in-github",
        "colab_type": "text"
      },
      "source": [
        "<a href=\"https://colab.research.google.com/github/JerichoAnch/BTE-320/blob/main/In_Class_Assignments.ipynb\" target=\"_parent\"><img src=\"https://colab.research.google.com/assets/colab-badge.svg\" alt=\"Open In Colab\"/></a>"
      ]
    },
    {
      "cell_type": "markdown",
      "source": [
        "Shape area calculator"
      ],
      "metadata": {
        "id": "b-oy9EQt84-Q"
      }
    },
    {
      "cell_type": "code",
      "execution_count": null,
      "metadata": {
        "colab": {
          "base_uri": "https://localhost:8080/"
        },
        "id": "fof9tn0byiEU",
        "outputId": "ebba40ad-6724-4ece-f1e6-f3d8aacd5c65"
      },
      "outputs": [
        {
          "output_type": "stream",
          "name": "stdout",
          "text": [
            "150.72\n"
          ]
        }
      ],
      "source": [
        "r=3\n",
        "pi=3.14\n",
        "h=5\n",
        "SurfaceArea= 2*pi*r**2+2*pi*r*h\n",
        "print(SurfaceArea)"
      ]
    },
    {
      "cell_type": "markdown",
      "source": [
        "Rock Paper Scissors"
      ],
      "metadata": {
        "id": "KyM70bblFucZ"
      }
    },
    {
      "cell_type": "code",
      "source": [
        "Player_1 = input('Player 1 sign throw (rock/paper/scissors):')\n",
        "Player_2 = input('Player 2 sign throw (rock/paper/scissors):')\n",
        "\n",
        "if Player_1 == Player_2:\n",
        "  print('Draw')\n",
        "elif (Player_1 == 'rock' and Player_2 == 'scissors') or (Player_1 == 'scissors' and Player_2 == 'paper') or (Player_1 == 'paper' and Player_2 == 'rock'):\n",
        "  print('Player 1 wins')\n",
        "else:\n",
        "    print('Player 2 wins')"
      ],
      "metadata": {
        "colab": {
          "base_uri": "https://localhost:8080/"
        },
        "collapsed": true,
        "id": "6DUVx6oX-ZkK",
        "outputId": "bd1c4953-a15a-459c-928f-519f42f03fe9"
      },
      "execution_count": null,
      "outputs": [
        {
          "output_type": "stream",
          "name": "stdout",
          "text": [
            "Player 1 sign throw (rock/paper/scissors):rock\n",
            "Player 2 sign throw (rock/paper/scissors):paper\n",
            "Player 2 wins\n"
          ]
        }
      ]
    },
    {
      "cell_type": "markdown",
      "source": [
        "Numerical Calculator"
      ],
      "metadata": {
        "id": "nruondH1FwAa"
      }
    },
    {
      "cell_type": "code",
      "source": [
        "N1 = float(input('First Number ='))\n",
        "S = input('Operation(+,-,*,/,**)')\n",
        "N2 = float(input('Second Number ='))\n",
        "if S == '+':\n",
        "  print(f'{N1} + {N2} = {N1+N2}')\n",
        "elif S == '-':\n",
        "  print(f'{N1} - {N2} = {N1-N2}')\n",
        "elif S == '*':\n",
        "  print(f'{N1} * {N2} = {N1*N2}')\n",
        "elif S == '/':\n",
        "  print(f'{N1} / {N2} = {N1/N2}')\n",
        "elif S == '**':\n",
        "  print(f'{N1} ** {N2} = {N1**N2}')"
      ],
      "metadata": {
        "colab": {
          "base_uri": "https://localhost:8080/"
        },
        "collapsed": true,
        "id": "DSKvpIafALfU",
        "outputId": "4b81e1ac-4bb1-4363-f67a-a7ff0a65137e"
      },
      "execution_count": null,
      "outputs": [
        {
          "output_type": "stream",
          "name": "stdout",
          "text": [
            "First Number =20\n",
            "Operation(+,-,*,/,**)/\n",
            "Second Number =5\n",
            "20.0 / 5.0 = 4.0\n"
          ]
        }
      ]
    },
    {
      "cell_type": "markdown",
      "source": [
        "Rock Paper Scissors (Loop)"
      ],
      "metadata": {
        "id": "Xe9UqnRc89vS"
      }
    },
    {
      "cell_type": "code",
      "source": [
        "import random\n",
        "\n",
        "c=input('Would you like to play a game?')\n",
        "p1= input (\"choose rock, paper, scissors:\")\n",
        "p2= random.choice (\"choose rock, paper, scissors:\")\n",
        "\n",
        "print(f'computer choose {p2}.')\n",
        "\n",
        "if p1 == p2:\n",
        "  print('Draw')\n",
        "elif((p1=='rock') and (p2=='scissors')) or ((p1=='scissors') and (p2=='paper')) or ((p1=='paper') and (p2=='rock')):\n",
        "  print('You win')\n",
        "else:\n",
        "  print('Computer wins')\n",
        "c=input('Would you like to play another a game?')\n"
      ],
      "metadata": {
        "id": "KsxCJhGEzDYE",
        "colab": {
          "base_uri": "https://localhost:8080/"
        },
        "collapsed": true,
        "outputId": "d04fc39b-2f05-441d-ae6b-b08bdc8821ea"
      },
      "execution_count": null,
      "outputs": [
        {
          "name": "stdout",
          "output_type": "stream",
          "text": [
            "Would you like to play a game?yes\n",
            "choose rock, paper, scissors:rock\n",
            "computer choose s.\n",
            "Computer wins\n",
            "Would you like to play another a game?no\n"
          ]
        }
      ]
    },
    {
      "cell_type": "markdown",
      "source": [
        "Parking Garage"
      ],
      "metadata": {
        "id": "TiN5Ot5pFyzV"
      }
    },
    {
      "cell_type": "code",
      "source": [
        "for t in range(1, 9, 1):\n",
        "  charge= 5 + 2.5 *t\n",
        "  if charge < 10:\n",
        "    charge = 10\n",
        "  elif charge > 20:\n",
        "    charge = 20\n",
        "  print(t, charge)\n"
      ],
      "metadata": {
        "colab": {
          "base_uri": "https://localhost:8080/"
        },
        "id": "MGNCa05qDeCf",
        "outputId": "fcee8403-8dd5-4636-cb99-2bbf5f8cc0c7"
      },
      "execution_count": null,
      "outputs": [
        {
          "output_type": "stream",
          "name": "stdout",
          "text": [
            "1 10\n",
            "2 10.0\n",
            "3 12.5\n",
            "4 15.0\n",
            "5 17.5\n",
            "6 20.0\n",
            "7 20\n",
            "8 20\n"
          ]
        }
      ]
    },
    {
      "cell_type": "markdown",
      "source": [],
      "metadata": {
        "id": "i7P39dERQYzQ"
      }
    },
    {
      "cell_type": "markdown",
      "source": [
        "Movie Theater Problem\n"
      ],
      "metadata": {
        "id": "30qWACPZQa-n"
      }
    },
    {
      "cell_type": "code",
      "source": [
        "print(f'Ad$ Profit')\n",
        "\n",
        "init_attendees = 20\n",
        "fixed_cost = 200\n",
        "\n",
        "for advertising in range (0,201,25):\n",
        "  ad = float(advertising)\n",
        "  attendees = float(2*round(advertising**0.5) + init_attendees)\n",
        "  profit=float((attendees * 10)- advertising - fixed_cost)\n",
        "  print(f'{ad} ${profit}')"
      ],
      "metadata": {
        "colab": {
          "base_uri": "https://localhost:8080/"
        },
        "id": "U3xlBhGFQciZ",
        "outputId": "f87de837-46eb-40c4-ef6e-2cc71cf4562a"
      },
      "execution_count": null,
      "outputs": [
        {
          "output_type": "stream",
          "name": "stdout",
          "text": [
            "Ad$ Profit\n",
            "0.0 $0.0\n",
            "25.0 $75.0\n",
            "50.0 $90.0\n",
            "75.0 $105.0\n",
            "100.0 $100.0\n",
            "125.0 $95.0\n",
            "150.0 $90.0\n",
            "175.0 $85.0\n",
            "200.0 $80.0\n"
          ]
        }
      ]
    },
    {
      "cell_type": "markdown",
      "source": [
        "Months- Names & Numbers"
      ],
      "metadata": {
        "id": "sdlvgh5BLK-n"
      }
    },
    {
      "cell_type": "code",
      "source": [
        "months= {}\n",
        "names = ['Jan', 'Feb', 'Mar', 'Apr', 'May', 'Jun', 'Jul', 'Aug', 'Sep', 'Oct', 'Nov', 'Dec']\n",
        "numbers = [1, 2, 3, 4, 5, 6, 7, 8, 9, 10, 11, 12]\n",
        "for i in range(len(numbers)):\n",
        "  months[numbers[i]] = names[i]\n",
        "print(months)"
      ],
      "metadata": {
        "id": "2H5WjXubQ8qK",
        "colab": {
          "base_uri": "https://localhost:8080/"
        },
        "outputId": "5a499214-65f3-4d07-ec8d-abaa3573e733"
      },
      "execution_count": null,
      "outputs": [
        {
          "output_type": "stream",
          "name": "stdout",
          "text": [
            "{1: 'Jan', 2: 'Feb', 3: 'Mar', 4: 'Apr', 5: 'May', 6: 'Jun', 7: 'Jul', 8: 'Aug', 9: 'Sep', 10: 'Oct', 11: 'Nov', 12: 'Dec'}\n"
          ]
        }
      ]
    },
    {
      "cell_type": "markdown",
      "source": [
        "House Hunting"
      ],
      "metadata": {
        "id": "T-TPlj-fbynU"
      }
    },
    {
      "cell_type": "code",
      "source": [
        "annual_salary = float(input(\"Enter your annual salary: \"))\n",
        "portion_saved = float(input(\"Enter the percent of your salary to save, as a decimal: \"))\n",
        "total_cost = float(input(\"Enter the cost of your dream home: \"))\n",
        "\n",
        "portion_down_payment = 0.25\n",
        "r = 0.04\n",
        "\n",
        "down_payment = portion_down_payment * total_cost\n",
        "current_savings = 0.0\n",
        "monthly_salary = annual_salary / 12\n",
        "months = 0\n",
        "\n",
        "while current_savings < down_payment:\n",
        "    current_savings += current_savings * (r / 12) + portion_saved * monthly_salary\n",
        "    months += 1\n",
        "\n",
        "print(\"Number of months:\", months)\n"
      ],
      "metadata": {
        "id": "6mljYdobb7KV",
        "outputId": "1b8d5d26-02b2-4459-9ba0-cdbc481bd541",
        "colab": {
          "base_uri": "https://localhost:8080/"
        }
      },
      "execution_count": null,
      "outputs": [
        {
          "output_type": "stream",
          "name": "stdout",
          "text": [
            "Enter your annual salary: 100000\n",
            "Enter the percent of your salary to save, as a decimal: .2\n",
            "Enter the cost of your dream home: 30000\n",
            "Number of months: 5\n"
          ]
        }
      ]
    },
    {
      "cell_type": "markdown",
      "source": [
        "Saving with raise"
      ],
      "metadata": {
        "id": "xNGz3573by6a"
      }
    },
    {
      "cell_type": "code",
      "source": [
        "annual_salary = float(input(\"Enter your annual salary: \"))\n",
        "portion_saved = float(input(\"Enter the percent of your salary to save, as a decimal: \"))\n",
        "total_cost = float(input(\"Enter the cost of your dream home: \"))\n",
        "semi_annual_raise = float(input(\"Enter the semi-annual raise, as a decimal: \"))\n",
        "\n",
        "portion_down_payment = 0.25\n",
        "r = 0.04\n",
        "\n",
        "down_payment = portion_down_payment * total_cost\n",
        "current_savings = 0.0\n",
        "monthly_salary = annual_salary / 12\n",
        "months = 0\n",
        "\n",
        "while current_savings < down_payment:\n",
        "    current_savings += current_savings * (r / 12) + portion_saved * monthly_salary\n",
        "    months += 1\n",
        "\n",
        "    if months % 6 == 0:\n",
        "        annual_salary += annual_salary * semi_annual_raise\n",
        "        monthly_salary = annual_salary / 12\n",
        "\n",
        "print(\"Number of months:\", months)"
      ],
      "metadata": {
        "id": "l9RPB7e5b7W5",
        "outputId": "4a6db5ad-ec4b-4340-8e84-9bf5fc6e1f44",
        "colab": {
          "base_uri": "https://localhost:8080/"
        }
      },
      "execution_count": null,
      "outputs": [
        {
          "output_type": "stream",
          "name": "stdout",
          "text": [
            "Enter your annual salary: 200000\n",
            "Enter the percent of your salary to save, as a decimal: .5\n",
            "Enter the cost of your dream home: 30000\n",
            "Enter the semi-annual raise, as a decimal: .4\n",
            "Number of months: 1\n"
          ]
        }
      ]
    },
    {
      "cell_type": "markdown",
      "source": [
        "Check if a number is within a range"
      ],
      "metadata": {
        "id": "jRNFTBqjbzXA"
      }
    },
    {
      "cell_type": "code",
      "source": [
        "def range_check(number, low, high):\n",
        "    if low <= number <= high:\n",
        "        print(f\"{number} is in the range between {low} and {high}.\")\n",
        "    else:\n",
        "        print(f\"{number} is not in the range between {low} and {high}.\")\n",
        "\n",
        "range_check(5, 1, 10)"
      ],
      "metadata": {
        "id": "TQxPzXUQb7yN",
        "outputId": "ec9a9227-1459-4588-dfc2-359519df723b",
        "colab": {
          "base_uri": "https://localhost:8080/"
        }
      },
      "execution_count": null,
      "outputs": [
        {
          "output_type": "stream",
          "name": "stdout",
          "text": [
            "5 is in the range between 1 and 10.\n"
          ]
        }
      ]
    },
    {
      "cell_type": "markdown",
      "source": [
        "Fee Calculation and Display Functions"
      ],
      "metadata": {
        "id": "sTJsq88sGOl3"
      }
    },
    {
      "cell_type": "code",
      "source": [
        "def displayFee(fee):\n",
        "  print(fee)\n",
        "def calcFee(hours, decimals=2):\n",
        "  fee=5 + hours*2.5\n",
        "  fee=round(fee, decimals)\n",
        "  return fee\n",
        "\n",
        "if __name__== \"__main__\":\n",
        "  h = int(input('Enter number of hours: '))\n",
        "  displayFee(calcFee(h))"
      ],
      "metadata": {
        "colab": {
          "base_uri": "https://localhost:8080/"
        },
        "id": "EtrwnAYTI2F8",
        "outputId": "3451ea71-6afc-406c-d0b6-9b8cafd819f1"
      },
      "execution_count": null,
      "outputs": [
        {
          "output_type": "stream",
          "name": "stdout",
          "text": [
            "Enter number of hours: 2\n",
            "10.0\n"
          ]
        }
      ]
    },
    {
      "cell_type": "markdown",
      "source": [
        "Recursion"
      ],
      "metadata": {
        "id": "tOLvo5PkI1OG"
      }
    },
    {
      "cell_type": "code",
      "source": [
        "def reverse(s):\n",
        "  if len(s) == 1:\n",
        "    return s\n",
        "  else:\n",
        "    return s[-1] + reverse(s[1:-1]) + s[0]\n",
        "    return reverse(s[1:]) + s[0]\n",
        "    return s[-1] + reverse(s[:-1])\n",
        "\n",
        "reverse('Hello')"
      ],
      "metadata": {
        "colab": {
          "base_uri": "https://localhost:8080/",
          "height": 35
        },
        "id": "oJMBIyvJI4qk",
        "outputId": "33387b94-0d48-4970-97df-696ae9767ecc"
      },
      "execution_count": null,
      "outputs": [
        {
          "output_type": "execute_result",
          "data": {
            "text/plain": [
              "'olleH'"
            ],
            "application/vnd.google.colaboratory.intrinsic+json": {
              "type": "string"
            }
          },
          "metadata": {},
          "execution_count": 6
        }
      ]
    },
    {
      "cell_type": "markdown",
      "source": [
        "Student Class\n"
      ],
      "metadata": {
        "id": "HKtHRrb4EalG"
      }
    },
    {
      "cell_type": "code",
      "source": [
        "class Student:\n",
        "  def __init__(self, name, number):\n",
        "    self.__name = name\n",
        "    self.number = number\n",
        "    self.__courses = []\n",
        "\n",
        "  def enroll(self, newCourse):\n",
        "    if newCourse not in self.__courses:\n",
        "      self.__courses.append(newCourse)\n",
        "    else:\n",
        "      print(f'You have already enrolled in {newCourse}')\n",
        "\n",
        "  def get_courses(self):\n",
        "    return self.__courses\n",
        "\n",
        "  student = Student(\"John\", 123)\n",
        "  student.enroll(\"Math\")\n",
        "  student.enroll(\"Science\")\n",
        "  student.enroll(\"Math\")\n",
        "  print(student.get_courses())"
      ],
      "metadata": {
        "colab": {
          "base_uri": "https://localhost:8080/"
        },
        "collapsed": true,
        "id": "XFwxOq-kE35c",
        "outputId": "7238c903-ca65-420e-b606-59667c242152"
      },
      "execution_count": 12,
      "outputs": [
        {
          "output_type": "stream",
          "name": "stdout",
          "text": [
            "You have already enrolled in Math\n",
            "['Math', 'Science']\n"
          ]
        }
      ]
    }
  ]
}